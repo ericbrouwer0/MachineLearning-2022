{
 "cells": [
  {
   "cell_type": "markdown",
   "id": "eb11f07b-a2d7-4861-856f-ddd053f93c66",
   "metadata": {},
   "source": [
    "### CNN"
   ]
  },
  {
   "cell_type": "code",
   "execution_count": 25,
   "id": "a4d71233-7ba1-44cb-9063-359d649b5848",
   "metadata": {},
   "outputs": [],
   "source": [
    "import tensorflow as tf\n",
    "from tensorflow.keras import datasets, layers, models\n",
    "import matplotlib.pyplot as plt\n",
    "import numpy as np\n",
    "import os\n",
    "from sklearn.preprocessing import LabelBinarizer\n",
    "from sklearn.model_selection import KFold"
   ]
  },
  {
   "cell_type": "markdown",
   "id": "13d23119-5a4c-4c9f-a636-e2e6e5c02ea2",
   "metadata": {},
   "source": [
    "#### Load Data"
   ]
  },
  {
   "cell_type": "code",
   "execution_count": 2,
   "id": "0b91458d-123d-49a8-93dd-6356b18efaf6",
   "metadata": {},
   "outputs": [],
   "source": [
    "from src.dataLoading import dataLoader\n",
    "from sklearn.model_selection import train_test_split\n",
    "    \n",
    "vectors, images, labels = dataLoader()  # 784-long vectors, 28*28 images and mnist/chinese labels\n",
    "\n",
    "encoder = LabelBinarizer()\n",
    "transfomed_labels = encoder.fit(np.unique(labels))\n",
    "# split the vectors (for PCA, CNN would use images)\n",
    "# \"stratify\" makes sure theres a balance of each class in the test/train sets\n",
    "X_train, X_test, y_train, y_test = train_test_split(vectors, labels, train_size=0.8, stratify=labels)\n",
    "y_train_t = encoder.transform(y_train)\n",
    "y_test_t = encoder.transform(y_test)"
   ]
  },
  {
   "cell_type": "code",
   "execution_count": 19,
   "id": "b3bdf594-68f8-4112-be82-b0e2f79206ee",
   "metadata": {},
   "outputs": [],
   "source": [
    "X_train = np.reshape(X_train, (X_train.shape[0],28,28,1))\n",
    "X_test = np.reshape(X_test, (X_test.shape[0],28,28,1))"
   ]
  },
  {
   "cell_type": "code",
   "execution_count": 4,
   "id": "803d36c8-c83d-44c7-a4e3-fb880f39e64f",
   "metadata": {},
   "outputs": [
    {
     "data": {
      "text/plain": [
       "(16000, 28, 28, 1)"
      ]
     },
     "execution_count": 4,
     "metadata": {},
     "output_type": "execute_result"
    }
   ],
   "source": [
    "X_train.shape"
   ]
  },
  {
   "cell_type": "code",
   "execution_count": 5,
   "id": "270f6e17-d4b5-485c-85e7-a1a2a335d70f",
   "metadata": {},
   "outputs": [
    {
     "data": {
      "text/plain": [
       "(16000, 20)"
      ]
     },
     "execution_count": 5,
     "metadata": {},
     "output_type": "execute_result"
    }
   ],
   "source": [
    "y_train_t.shape"
   ]
  },
  {
   "cell_type": "code",
   "execution_count": 7,
   "id": "f10a30bc-664f-4a7d-842a-940c969c896c",
   "metadata": {},
   "outputs": [
    {
     "data": {
      "text/plain": [
       "(4000, 28, 28, 1)"
      ]
     },
     "execution_count": 7,
     "metadata": {},
     "output_type": "execute_result"
    }
   ],
   "source": [
    "X_test.shape"
   ]
  },
  {
   "cell_type": "code",
   "execution_count": 8,
   "id": "55686b40-1776-458d-a777-066d5ba10d3f",
   "metadata": {},
   "outputs": [
    {
     "data": {
      "text/plain": [
       "(4000, 20)"
      ]
     },
     "execution_count": 8,
     "metadata": {},
     "output_type": "execute_result"
    }
   ],
   "source": [
    "y_test_t.shape"
   ]
  },
  {
   "cell_type": "code",
   "execution_count": 22,
   "id": "3f61d8d0-6068-4122-8306-4736a1a70970",
   "metadata": {},
   "outputs": [],
   "source": [
    "def create_model():\n",
    "    model = models.Sequential()\n",
    "    model.add(layers.Conv2D(32, (3, 3), activation='relu', input_shape=X_train.shape[1:]))\n",
    "    model.add(layers.MaxPooling2D((2, 2)))\n",
    "    model.add(layers.Conv2D(64, (3, 3), activation='relu'))\n",
    "    model.add(layers.MaxPooling2D((2, 2)))\n",
    "    model.add(layers.Conv2D(64, (3, 3), activation='relu'))\n",
    "    model.add(layers.Flatten())\n",
    "    model.add(layers.Dense(64, activation='relu'))\n",
    "    model.add(layers.Dense(20))\n",
    "    return model"
   ]
  },
  {
   "cell_type": "code",
   "execution_count": 28,
   "id": "2d667f69-1e30-44c7-b3f8-3062cb4fc5d2",
   "metadata": {},
   "outputs": [
    {
     "name": "stdout",
     "output_type": "stream",
     "text": [
      "Model: \"sequential_4\"\n",
      "_________________________________________________________________\n",
      "Layer (type)                 Output Shape              Param #   \n",
      "=================================================================\n",
      "conv2d_12 (Conv2D)           (None, 26, 26, 32)        320       \n",
      "_________________________________________________________________\n",
      "max_pooling2d_8 (MaxPooling2 (None, 13, 13, 32)        0         \n",
      "_________________________________________________________________\n",
      "conv2d_13 (Conv2D)           (None, 11, 11, 64)        18496     \n",
      "_________________________________________________________________\n",
      "max_pooling2d_9 (MaxPooling2 (None, 5, 5, 64)          0         \n",
      "_________________________________________________________________\n",
      "conv2d_14 (Conv2D)           (None, 3, 3, 64)          36928     \n",
      "_________________________________________________________________\n",
      "flatten_4 (Flatten)          (None, 576)               0         \n",
      "_________________________________________________________________\n",
      "dense_8 (Dense)              (None, 64)                36928     \n",
      "_________________________________________________________________\n",
      "dense_9 (Dense)              (None, 20)                1300      \n",
      "=================================================================\n",
      "Total params: 93,972\n",
      "Trainable params: 93,972\n",
      "Non-trainable params: 0\n",
      "_________________________________________________________________\n"
     ]
    }
   ],
   "source": [
    "model = create_model()\n",
    "model.summary()"
   ]
  },
  {
   "cell_type": "code",
   "execution_count": 29,
   "id": "ce52ec10-6203-4248-85fc-0cabc1ae7b4b",
   "metadata": {},
   "outputs": [
    {
     "name": "stdout",
     "output_type": "stream",
     "text": [
      "Epoch 1/10\n",
      "422/422 [==============================] - 5s 10ms/step - loss: 0.8769 - accuracy: 0.8113 - val_loss: 0.1865 - val_accuracy: 0.9367\n",
      "Epoch 2/10\n",
      "422/422 [==============================] - 4s 9ms/step - loss: 0.1387 - accuracy: 0.9612 - val_loss: 0.1162 - val_accuracy: 0.9640\n",
      "Epoch 3/10\n",
      "422/422 [==============================] - 4s 9ms/step - loss: 0.0829 - accuracy: 0.9761 - val_loss: 0.0982 - val_accuracy: 0.9707\n",
      "Epoch 4/10\n",
      "422/422 [==============================] - 4s 8ms/step - loss: 0.0690 - accuracy: 0.9799 - val_loss: 0.0715 - val_accuracy: 0.9747\n",
      "Epoch 5/10\n",
      "422/422 [==============================] - 4s 9ms/step - loss: 0.0505 - accuracy: 0.9853 - val_loss: 0.1032 - val_accuracy: 0.9693\n",
      "Epoch 6/10\n",
      "422/422 [==============================] - 4s 9ms/step - loss: 0.0423 - accuracy: 0.9881 - val_loss: 0.1902 - val_accuracy: 0.9473\n",
      "Epoch 7/10\n",
      "422/422 [==============================] - 4s 11ms/step - loss: 0.0533 - accuracy: 0.9856 - val_loss: 0.1245 - val_accuracy: 0.9700\n",
      "Epoch 8/10\n",
      "422/422 [==============================] - 4s 9ms/step - loss: 0.0383 - accuracy: 0.9884 - val_loss: 0.1007 - val_accuracy: 0.9740\n",
      "Epoch 9/10\n",
      "422/422 [==============================] - 4s 9ms/step - loss: 0.0382 - accuracy: 0.9892 - val_loss: 0.1088 - val_accuracy: 0.9687\n",
      "Epoch 10/10\n",
      "422/422 [==============================] - 4s 9ms/step - loss: 0.0284 - accuracy: 0.9910 - val_loss: 0.0845 - val_accuracy: 0.9780\n"
     ]
    }
   ],
   "source": [
    "model.compile(optimizer='adam',\n",
    "              loss=tf.keras.losses.CategoricalCrossentropy(from_logits=True),\n",
    "              metrics=['accuracy'])\n",
    "\n",
    "history = model.fit(X_train, y_train_t, epochs=10,\n",
    "                    validation_split=0.1)"
   ]
  },
  {
   "cell_type": "code",
   "execution_count": 30,
   "id": "75c8f707-ee8d-48ad-a08e-fd2e2ea26720",
   "metadata": {},
   "outputs": [
    {
     "name": "stdout",
     "output_type": "stream",
     "text": [
      "FOLD 1\n",
      "Epoch 1/50\n",
      "190/190 - 2s - loss: 1.4859 - accuracy: 0.7393 - val_loss: 0.2930 - val_accuracy: 0.9156\n",
      "Epoch 2/50\n",
      "190/190 - 1s - loss: 0.2071 - accuracy: 0.9408 - val_loss: 0.1627 - val_accuracy: 0.9548\n",
      "Epoch 3/50\n",
      "190/190 - 2s - loss: 0.1104 - accuracy: 0.9686 - val_loss: 0.1191 - val_accuracy: 0.9667\n",
      "Epoch 4/50\n",
      "190/190 - 2s - loss: 0.0844 - accuracy: 0.9751 - val_loss: 0.0918 - val_accuracy: 0.9741\n",
      "Epoch 5/50\n",
      "190/190 - 2s - loss: 0.0470 - accuracy: 0.9877 - val_loss: 0.0933 - val_accuracy: 0.9763\n",
      "Epoch 6/50\n",
      "190/190 - 2s - loss: 0.0368 - accuracy: 0.9886 - val_loss: 0.1026 - val_accuracy: 0.9726\n",
      "Epoch 7/50\n",
      "190/190 - 2s - loss: 0.0326 - accuracy: 0.9902 - val_loss: 0.0961 - val_accuracy: 0.9770\n",
      "Epoch 8/50\n",
      "190/190 - 1s - loss: 0.0287 - accuracy: 0.9908 - val_loss: 0.0876 - val_accuracy: 0.9756\n",
      "Epoch 9/50\n",
      "190/190 - 1s - loss: 0.0319 - accuracy: 0.9895 - val_loss: 0.1297 - val_accuracy: 0.9630\n",
      "Epoch 10/50\n",
      "190/190 - 2s - loss: 0.0301 - accuracy: 0.9904 - val_loss: 0.0899 - val_accuracy: 0.9785\n",
      "Epoch 11/50\n",
      "190/190 - 1s - loss: 0.0255 - accuracy: 0.9917 - val_loss: 0.0840 - val_accuracy: 0.9793\n",
      "Epoch 12/50\n",
      "190/190 - 2s - loss: 0.0226 - accuracy: 0.9939 - val_loss: 0.0812 - val_accuracy: 0.9837\n",
      "Epoch 13/50\n",
      "190/190 - 2s - loss: 0.0257 - accuracy: 0.9936 - val_loss: 0.1339 - val_accuracy: 0.9726\n",
      "Epoch 14/50\n",
      "190/190 - 2s - loss: 0.0197 - accuracy: 0.9933 - val_loss: 0.0822 - val_accuracy: 0.9800\n",
      "Epoch 15/50\n",
      "190/190 - 2s - loss: 0.0316 - accuracy: 0.9911 - val_loss: 0.1411 - val_accuracy: 0.9644\n",
      "Epoch 16/50\n",
      "190/190 - 2s - loss: 0.0274 - accuracy: 0.9917 - val_loss: 0.0929 - val_accuracy: 0.9785\n",
      "Epoch 17/50\n",
      "190/190 - 1s - loss: 0.0222 - accuracy: 0.9942 - val_loss: 0.0711 - val_accuracy: 0.9844\n",
      "Epoch 18/50\n",
      "190/190 - 2s - loss: 0.0149 - accuracy: 0.9955 - val_loss: 0.0684 - val_accuracy: 0.9844\n",
      "Epoch 19/50\n",
      "190/190 - 2s - loss: 0.0252 - accuracy: 0.9928 - val_loss: 0.0979 - val_accuracy: 0.9785\n",
      "Epoch 20/50\n",
      "190/190 - 1s - loss: 0.0238 - accuracy: 0.9937 - val_loss: 0.0686 - val_accuracy: 0.9844\n",
      "Epoch 21/50\n",
      "190/190 - 2s - loss: 0.0141 - accuracy: 0.9947 - val_loss: 0.0896 - val_accuracy: 0.9807\n",
      "Epoch 22/50\n",
      "190/190 - 1s - loss: 0.0120 - accuracy: 0.9965 - val_loss: 0.1549 - val_accuracy: 0.9711\n",
      "Epoch 23/50\n",
      "190/190 - 1s - loss: 0.0209 - accuracy: 0.9942 - val_loss: 0.1166 - val_accuracy: 0.9770\n",
      "Epoch 24/50\n",
      "190/190 - 2s - loss: 0.0262 - accuracy: 0.9922 - val_loss: 0.0823 - val_accuracy: 0.9793\n",
      "Epoch 25/50\n",
      "190/190 - 2s - loss: 0.0217 - accuracy: 0.9941 - val_loss: 0.0763 - val_accuracy: 0.9867\n",
      "Epoch 26/50\n",
      "190/190 - 1s - loss: 0.0106 - accuracy: 0.9965 - val_loss: 0.0664 - val_accuracy: 0.9889\n",
      "Epoch 27/50\n",
      "190/190 - 2s - loss: 0.0121 - accuracy: 0.9970 - val_loss: 0.1008 - val_accuracy: 0.9844\n",
      "Epoch 28/50\n",
      "190/190 - 1s - loss: 0.0201 - accuracy: 0.9946 - val_loss: 0.1018 - val_accuracy: 0.9807\n",
      "Epoch 29/50\n",
      "190/190 - 2s - loss: 0.0116 - accuracy: 0.9963 - val_loss: 0.0961 - val_accuracy: 0.9852\n",
      "Epoch 30/50\n",
      "190/190 - 2s - loss: 0.0336 - accuracy: 0.9929 - val_loss: 0.0920 - val_accuracy: 0.9696\n",
      "Epoch 31/50\n",
      "190/190 - 2s - loss: 0.0202 - accuracy: 0.9942 - val_loss: 0.1000 - val_accuracy: 0.9785\n",
      "Epoch 32/50\n",
      "190/190 - 2s - loss: 0.0161 - accuracy: 0.9951 - val_loss: 0.0761 - val_accuracy: 0.9874\n",
      "Epoch 33/50\n",
      "190/190 - 2s - loss: 0.0115 - accuracy: 0.9972 - val_loss: 0.0578 - val_accuracy: 0.9867\n",
      "Epoch 34/50\n",
      "190/190 - 2s - loss: 0.0038 - accuracy: 0.9992 - val_loss: 0.0667 - val_accuracy: 0.9867\n",
      "Epoch 35/50\n",
      "190/190 - 2s - loss: 0.0025 - accuracy: 0.9997 - val_loss: 0.0623 - val_accuracy: 0.9874\n",
      "Epoch 36/50\n",
      "190/190 - 2s - loss: 0.0016 - accuracy: 0.9995 - val_loss: 0.0618 - val_accuracy: 0.9896\n",
      "Epoch 37/50\n",
      "190/190 - 1s - loss: 0.0022 - accuracy: 0.9994 - val_loss: 0.0619 - val_accuracy: 0.9889\n",
      "Epoch 38/50\n",
      "190/190 - 2s - loss: 0.0023 - accuracy: 0.9993 - val_loss: 0.0519 - val_accuracy: 0.9911\n",
      "Epoch 39/50\n",
      "190/190 - 2s - loss: 0.0015 - accuracy: 0.9997 - val_loss: 0.0581 - val_accuracy: 0.9881\n",
      "Epoch 40/50\n",
      "190/190 - 1s - loss: 0.0016 - accuracy: 0.9995 - val_loss: 0.0642 - val_accuracy: 0.9874\n",
      "Epoch 41/50\n",
      "190/190 - 2s - loss: 0.0011 - accuracy: 0.9997 - val_loss: 0.0550 - val_accuracy: 0.9889\n",
      "Epoch 42/50\n",
      "190/190 - 2s - loss: 0.0017 - accuracy: 0.9995 - val_loss: 0.0636 - val_accuracy: 0.9874\n",
      "Epoch 43/50\n",
      "190/190 - 1s - loss: 0.0026 - accuracy: 0.9993 - val_loss: 0.0573 - val_accuracy: 0.9874\n",
      "Epoch 44/50\n",
      "190/190 - 2s - loss: 0.0017 - accuracy: 0.9993 - val_loss: 0.0767 - val_accuracy: 0.9867\n",
      "Epoch 45/50\n",
      "190/190 - 2s - loss: 0.0898 - accuracy: 0.9791 - val_loss: 0.1756 - val_accuracy: 0.9696\n",
      "Epoch 46/50\n",
      "190/190 - 2s - loss: 0.0409 - accuracy: 0.9892 - val_loss: 0.0965 - val_accuracy: 0.9793\n",
      "Epoch 47/50\n",
      "190/190 - 2s - loss: 0.0184 - accuracy: 0.9951 - val_loss: 0.0769 - val_accuracy: 0.9830\n",
      "Epoch 48/50\n",
      "190/190 - 2s - loss: 0.0069 - accuracy: 0.9975 - val_loss: 0.0770 - val_accuracy: 0.9844\n",
      "Epoch 49/50\n",
      "190/190 - 1s - loss: 0.0069 - accuracy: 0.9980 - val_loss: 0.0745 - val_accuracy: 0.9785\n",
      "Epoch 50/50\n",
      "190/190 - 2s - loss: 0.0040 - accuracy: 0.9984 - val_loss: 0.1159 - val_accuracy: 0.9800\n"
     ]
    },
    {
     "ename": "NameError",
     "evalue": "name 'train_x' is not defined",
     "output_type": "error",
     "traceback": [
      "\u001b[1;31m---------------------------------------------------------------------------\u001b[0m",
      "\u001b[1;31mNameError\u001b[0m                                 Traceback (most recent call last)",
      "Cell \u001b[1;32mIn [30], line 22\u001b[0m\n\u001b[0;32m      9\u001b[0m model\u001b[38;5;241m.\u001b[39mcompile(\n\u001b[0;32m     10\u001b[0m     optimizer\u001b[38;5;241m=\u001b[39m\u001b[38;5;124m'\u001b[39m\u001b[38;5;124madam\u001b[39m\u001b[38;5;124m'\u001b[39m,\n\u001b[0;32m     11\u001b[0m     loss\u001b[38;5;241m=\u001b[39mtf\u001b[38;5;241m.\u001b[39mkeras\u001b[38;5;241m.\u001b[39mlosses\u001b[38;5;241m.\u001b[39mCategoricalCrossentropy(from_logits\u001b[38;5;241m=\u001b[39m\u001b[38;5;28;01mTrue\u001b[39;00m),\n\u001b[0;32m     12\u001b[0m     metrics\u001b[38;5;241m=\u001b[39m[\u001b[38;5;124m'\u001b[39m\u001b[38;5;124maccuracy\u001b[39m\u001b[38;5;124m'\u001b[39m])\n\u001b[0;32m     13\u001b[0m history \u001b[38;5;241m=\u001b[39m model\u001b[38;5;241m.\u001b[39mfit(\n\u001b[0;32m     14\u001b[0m     X_train[train],\n\u001b[0;32m     15\u001b[0m     y_train_t[train],\n\u001b[1;32m   (...)\u001b[0m\n\u001b[0;32m     20\u001b[0m     \u001b[38;5;66;03m# callbacks=callbacks\u001b[39;00m\n\u001b[0;32m     21\u001b[0m )\n\u001b[1;32m---> 22\u001b[0m test_loss, test_acc \u001b[38;5;241m=\u001b[39m model\u001b[38;5;241m.\u001b[39mevaluate(\u001b[43mtrain_x\u001b[49m[test], train_y[test], verbose\u001b[38;5;241m=\u001b[39m\u001b[38;5;241m2\u001b[39m)\n\u001b[0;32m     23\u001b[0m \u001b[38;5;28mprint\u001b[39m(\u001b[38;5;124mf\u001b[39m\u001b[38;5;124m'\u001b[39m\u001b[38;5;124mScore for fold \u001b[39m\u001b[38;5;132;01m{\u001b[39;00mfold_n\u001b[38;5;132;01m}\u001b[39;00m\u001b[38;5;124m: \u001b[39m\u001b[38;5;132;01m{\u001b[39;00mmodel\u001b[38;5;241m.\u001b[39mmetrics_names[\u001b[38;5;241m0\u001b[39m]\u001b[38;5;132;01m}\u001b[39;00m\u001b[38;5;124m of \u001b[39m\u001b[38;5;132;01m{\u001b[39;00mtest_loss\u001b[38;5;132;01m}\u001b[39;00m\u001b[38;5;124m; \u001b[39m\u001b[38;5;132;01m{\u001b[39;00mmodel\u001b[38;5;241m.\u001b[39mmetrics_names[\u001b[38;5;241m1\u001b[39m]\u001b[38;5;132;01m}\u001b[39;00m\u001b[38;5;124m of \u001b[39m\u001b[38;5;132;01m{\u001b[39;00mtest_acc\u001b[38;5;241m*\u001b[39m\u001b[38;5;241m100\u001b[39m\u001b[38;5;132;01m}\u001b[39;00m\u001b[38;5;124m%\u001b[39m\u001b[38;5;124m'\u001b[39m)\n\u001b[0;32m     24\u001b[0m acc_per_fold\u001b[38;5;241m.\u001b[39mappend(test_acc \u001b[38;5;241m*\u001b[39m \u001b[38;5;241m100\u001b[39m)\n",
      "\u001b[1;31mNameError\u001b[0m: name 'train_x' is not defined"
     ]
    }
   ],
   "source": [
    "acc_per_fold = []\n",
    "loss_per_fold = []\n",
    "num_folds = 10\n",
    "kfold = KFold(n_splits=num_folds, shuffle=True)\n",
    "fold_n = 1\n",
    "for train, test in kfold.split(X_train, y_train_t):\n",
    "    print(f'FOLD {fold_n}')\n",
    "    model = create_model()\n",
    "    model.compile(\n",
    "        optimizer='adam',\n",
    "        loss=tf.keras.losses.CategoricalCrossentropy(from_logits=True),\n",
    "        metrics=['accuracy'])\n",
    "    history = model.fit(\n",
    "        X_train[train],\n",
    "        y_train_t[train],\n",
    "        epochs=10,\n",
    "        # batch_size=64,\n",
    "        validation_split=0.1,\n",
    "        verbose=2,\n",
    "        # callbacks=callbacks\n",
    "    )\n",
    "    test_loss, test_acc = model.evaluate(X_train[test], y_train_t[test], verbose=2)\n",
    "    print(f'Score for fold {fold_n}: {model.metrics_names[0]} of {test_loss}; {model.metrics_names[1]} of {test_acc*100}%')\n",
    "    acc_per_fold.append(test_acc * 100)\n",
    "    loss_per_fold.append(test_loss)\n",
    "    fold_n += 1"
   ]
  },
  {
   "cell_type": "code",
   "execution_count": null,
   "id": "8217497c-5eae-45d1-be22-3c6660f11d0e",
   "metadata": {},
   "outputs": [],
   "source": []
  }
 ],
 "metadata": {
  "kernelspec": {
   "display_name": "Python 3 (ipykernel)",
   "language": "python",
   "name": "python3"
  },
  "language_info": {
   "codemirror_mode": {
    "name": "ipython",
    "version": 3
   },
   "file_extension": ".py",
   "mimetype": "text/x-python",
   "name": "python",
   "nbconvert_exporter": "python",
   "pygments_lexer": "ipython3",
   "version": "3.9.15"
  }
 },
 "nbformat": 4,
 "nbformat_minor": 5
}
