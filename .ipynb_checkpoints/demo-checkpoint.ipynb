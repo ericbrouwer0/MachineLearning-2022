{
 "cells": [
  {
   "attachments": {},
   "cell_type": "markdown",
   "metadata": {},
   "source": [
    "# Data Loading"
   ]
  },
  {
   "cell_type": "code",
   "execution_count": 1,
   "metadata": {},
   "outputs": [],
   "source": [
    "from sklearn.model_selection import train_test_split\n",
    "\n",
    "from src.dataLoading import dataLoader\n",
    "from src.featureExtraction import runPCA\n",
    "\n",
    "\n",
    "vectors, images, labels = dataLoader()  # 784-long vectors, 28*28 images and mnist/chinese labels\n",
    "\n",
    "# split the vectors (for PCA, CNN would use images)\n",
    "# \"stratify\" makes sure theres a balance of each class in the test/train sets\n",
    "X_train, X_test, y_train, y_test = train_test_split(vectors, labels, train_size=0.8, stratify=labels)\n"
   ]
  },
  {
   "cell_type": "code",
   "execution_count": 7,
   "metadata": {},
   "outputs": [
    {
     "name": "stdout",
     "output_type": "stream",
     "text": [
      "TRAINING LABELS    Counter({'mnist_0': 800, 'mnist_6': 800, 'mnist_8': 800, 'mnist_1': 800, 'chinese_3': 800, 'chinese_4': 800, 'mnist_7': 800, 'chinese_5': 800, 'chinese_1': 800, 'chinese_2': 800, 'chinese_7': 800, 'mnist_5': 800, 'chinese_8': 800, 'chinese_0': 800, 'chinese_9': 800, 'mnist_2': 800, 'mnist_4': 800, 'mnist_3': 800, 'mnist_9': 800, 'chinese_6': 800})\n",
      "TESTING LABELS    Counter({'mnist_9': 200, 'mnist_7': 200, 'chinese_6': 200, 'mnist_6': 200, 'chinese_7': 200, 'mnist_3': 200, 'mnist_4': 200, 'mnist_1': 200, 'chinese_4': 200, 'chinese_3': 200, 'chinese_9': 200, 'chinese_5': 200, 'mnist_0': 200, 'chinese_0': 200, 'chinese_1': 200, 'mnist_8': 200, 'mnist_5': 200, 'chinese_8': 200, 'chinese_2': 200, 'mnist_2': 200})\n"
     ]
    }
   ],
   "source": [
    "from collections import Counter\n",
    "\n",
    "print(\"TRAINING LABELS   \", Counter(y_train))\n",
    "print(\"TESTING LABELS   \", Counter(y_test))"
   ]
  },
  {
   "attachments": {},
   "cell_type": "markdown",
   "metadata": {},
   "source": [
    "# PCA"
   ]
  },
  {
   "cell_type": "code",
   "execution_count": 2,
   "metadata": {},
   "outputs": [],
   "source": [
    "pcaXtrain, pcaXtest = runPCA(X_train, X_test)   \n",
    "# 85 components fits the elbow in the scree plot\n",
    "# also happens to be where 90% of the variance is explained"
   ]
  },
  {
   "cell_type": "code",
   "execution_count": 3,
   "metadata": {},
   "outputs": [
    {
     "data": {
      "text/plain": [
       "(16000, 85)"
      ]
     },
     "execution_count": 3,
     "metadata": {},
     "output_type": "execute_result"
    }
   ],
   "source": [
    "pcaXtrain.shape"
   ]
  },
  {
   "cell_type": "code",
   "execution_count": 4,
   "metadata": {},
   "outputs": [
    {
     "data": {
      "text/plain": [
       "(4000, 85)"
      ]
     },
     "execution_count": 4,
     "metadata": {},
     "output_type": "execute_result"
    }
   ],
   "source": [
    "pcaXtest.shape"
   ]
  }
 ],
 "metadata": {
  "kernelspec": {
   "display_name": "Python 3",
   "language": "python",
   "name": "python3"
  },
  "language_info": {
   "codemirror_mode": {
    "name": "ipython",
    "version": 3
   },
   "file_extension": ".py",
   "mimetype": "text/x-python",
   "name": "python",
   "nbconvert_exporter": "python",
   "pygments_lexer": "ipython3",
   "version": "3.11.0"
  },
  "orig_nbformat": 4,
  "vscode": {
   "interpreter": {
    "hash": "b92c64ddd97bd75b75879c676e53789d19cf25aafb287fcc8a3273f02b13a1d2"
   }
  }
 },
 "nbformat": 4,
 "nbformat_minor": 2
}
