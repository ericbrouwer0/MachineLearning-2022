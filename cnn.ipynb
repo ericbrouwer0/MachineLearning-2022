{
 "cells": [
  {
   "cell_type": "markdown",
   "id": "eb11f07b-a2d7-4861-856f-ddd053f93c66",
   "metadata": {},
   "source": [
    "### CNN"
   ]
  },
  {
   "cell_type": "code",
   "execution_count": 25,
   "id": "a4d71233-7ba1-44cb-9063-359d649b5848",
   "metadata": {},
   "outputs": [],
   "source": [
    "import tensorflow as tf\n",
    "from tensorflow.keras import datasets, layers, models\n",
    "import matplotlib.pyplot as plt\n",
    "import numpy as np\n",
    "import os\n",
    "from sklearn.preprocessing import LabelBinarizer\n",
    "from sklearn.model_selection import KFold"
   ]
  },
  {
   "cell_type": "markdown",
   "id": "13d23119-5a4c-4c9f-a636-e2e6e5c02ea2",
   "metadata": {},
   "source": [
    "#### Load Data"
   ]
  },
  {
   "cell_type": "code",
   "execution_count": 2,
   "id": "0b91458d-123d-49a8-93dd-6356b18efaf6",
   "metadata": {},
   "outputs": [],
   "source": [
    "from src.dataLoading import dataLoader\n",
    "from sklearn.model_selection import train_test_split\n",
    "    \n",
    "vectors, images, labels = dataLoader()  # 784-long vectors, 28*28 images and mnist/chinese labels\n",
    "\n",
    "encoder = LabelBinarizer()\n",
    "transfomed_labels = encoder.fit(np.unique(labels))\n",
    "# split the vectors (for PCA, CNN would use images)\n",
    "# \"stratify\" makes sure theres a balance of each class in the test/train sets\n",
    "X_train, X_test, y_train, y_test = train_test_split(vectors, labels, train_size=0.8, stratify=labels)\n",
    "y_train_t = encoder.transform(y_train)\n",
    "y_test_t = encoder.transform(y_test)"
   ]
  },
  {
   "cell_type": "code",
   "execution_count": 19,
   "id": "b3bdf594-68f8-4112-be82-b0e2f79206ee",
   "metadata": {},
   "outputs": [],
   "source": [
    "X_train = np.reshape(X_train, (X_train.shape[0],28,28,1))\n",
    "X_test = np.reshape(X_test, (X_test.shape[0],28,28,1))"
   ]
  },
  {
   "cell_type": "code",
   "execution_count": 4,
   "id": "803d36c8-c83d-44c7-a4e3-fb880f39e64f",
   "metadata": {},
   "outputs": [
    {
     "data": {
      "text/plain": [
       "(16000, 28, 28, 1)"
      ]
     },
     "execution_count": 4,
     "metadata": {},
     "output_type": "execute_result"
    }
   ],
   "source": [
    "X_train.shape"
   ]
  },
  {
   "cell_type": "code",
   "execution_count": 5,
   "id": "270f6e17-d4b5-485c-85e7-a1a2a335d70f",
   "metadata": {},
   "outputs": [
    {
     "data": {
      "text/plain": [
       "(16000, 20)"
      ]
     },
     "execution_count": 5,
     "metadata": {},
     "output_type": "execute_result"
    }
   ],
   "source": [
    "y_train_t.shape"
   ]
  },
  {
   "cell_type": "code",
   "execution_count": 7,
   "id": "f10a30bc-664f-4a7d-842a-940c969c896c",
   "metadata": {},
   "outputs": [
    {
     "data": {
      "text/plain": [
       "(4000, 28, 28, 1)"
      ]
     },
     "execution_count": 7,
     "metadata": {},
     "output_type": "execute_result"
    }
   ],
   "source": [
    "X_test.shape"
   ]
  },
  {
   "cell_type": "code",
   "execution_count": 8,
   "id": "55686b40-1776-458d-a777-066d5ba10d3f",
   "metadata": {},
   "outputs": [
    {
     "data": {
      "text/plain": [
       "(4000, 20)"
      ]
     },
     "execution_count": 8,
     "metadata": {},
     "output_type": "execute_result"
    }
   ],
   "source": [
    "y_test_t.shape"
   ]
  },
  {
   "cell_type": "code",
   "execution_count": 22,
   "id": "3f61d8d0-6068-4122-8306-4736a1a70970",
   "metadata": {},
   "outputs": [],
   "source": [
    "def create_model():\n",
    "    model = models.Sequential()\n",
    "    model.add(layers.Conv2D(32, (3, 3), activation='relu', input_shape=X_train.shape[1:]))\n",
    "    model.add(layers.MaxPooling2D((2, 2)))\n",
    "    model.add(layers.Conv2D(64, (3, 3), activation='relu'))\n",
    "    model.add(layers.MaxPooling2D((2, 2)))\n",
    "    model.add(layers.Conv2D(64, (3, 3), activation='relu'))\n",
    "    model.add(layers.Flatten())\n",
    "    model.add(layers.Dense(64, activation='relu'))\n",
    "    model.add(layers.Dense(20))\n",
    "    return model"
   ]
  },
  {
   "cell_type": "code",
   "execution_count": 28,
   "id": "2d667f69-1e30-44c7-b3f8-3062cb4fc5d2",
   "metadata": {},
   "outputs": [
    {
     "name": "stdout",
     "output_type": "stream",
     "text": [
      "Model: \"sequential_4\"\n",
      "_________________________________________________________________\n",
      "Layer (type)                 Output Shape              Param #   \n",
      "=================================================================\n",
      "conv2d_12 (Conv2D)           (None, 26, 26, 32)        320       \n",
      "_________________________________________________________________\n",
      "max_pooling2d_8 (MaxPooling2 (None, 13, 13, 32)        0         \n",
      "_________________________________________________________________\n",
      "conv2d_13 (Conv2D)           (None, 11, 11, 64)        18496     \n",
      "_________________________________________________________________\n",
      "max_pooling2d_9 (MaxPooling2 (None, 5, 5, 64)          0         \n",
      "_________________________________________________________________\n",
      "conv2d_14 (Conv2D)           (None, 3, 3, 64)          36928     \n",
      "_________________________________________________________________\n",
      "flatten_4 (Flatten)          (None, 576)               0         \n",
      "_________________________________________________________________\n",
      "dense_8 (Dense)              (None, 64)                36928     \n",
      "_________________________________________________________________\n",
      "dense_9 (Dense)              (None, 20)                1300      \n",
      "=================================================================\n",
      "Total params: 93,972\n",
      "Trainable params: 93,972\n",
      "Non-trainable params: 0\n",
      "_________________________________________________________________\n"
     ]
    }
   ],
   "source": [
    "model = create_model()\n",
    "model.summary()"
   ]
  },
  {
   "cell_type": "code",
   "execution_count": 29,
   "id": "ce52ec10-6203-4248-85fc-0cabc1ae7b4b",
   "metadata": {},
   "outputs": [
    {
     "name": "stdout",
     "output_type": "stream",
     "text": [
      "Epoch 1/10\n",
      "422/422 [==============================] - 5s 10ms/step - loss: 0.8769 - accuracy: 0.8113 - val_loss: 0.1865 - val_accuracy: 0.9367\n",
      "Epoch 2/10\n",
      "422/422 [==============================] - 4s 9ms/step - loss: 0.1387 - accuracy: 0.9612 - val_loss: 0.1162 - val_accuracy: 0.9640\n",
      "Epoch 3/10\n",
      "422/422 [==============================] - 4s 9ms/step - loss: 0.0829 - accuracy: 0.9761 - val_loss: 0.0982 - val_accuracy: 0.9707\n",
      "Epoch 4/10\n",
      "422/422 [==============================] - 4s 8ms/step - loss: 0.0690 - accuracy: 0.9799 - val_loss: 0.0715 - val_accuracy: 0.9747\n",
      "Epoch 5/10\n",
      "422/422 [==============================] - 4s 9ms/step - loss: 0.0505 - accuracy: 0.9853 - val_loss: 0.1032 - val_accuracy: 0.9693\n",
      "Epoch 6/10\n",
      "422/422 [==============================] - 4s 9ms/step - loss: 0.0423 - accuracy: 0.9881 - val_loss: 0.1902 - val_accuracy: 0.9473\n",
      "Epoch 7/10\n",
      "422/422 [==============================] - 4s 11ms/step - loss: 0.0533 - accuracy: 0.9856 - val_loss: 0.1245 - val_accuracy: 0.9700\n",
      "Epoch 8/10\n",
      "422/422 [==============================] - 4s 9ms/step - loss: 0.0383 - accuracy: 0.9884 - val_loss: 0.1007 - val_accuracy: 0.9740\n",
      "Epoch 9/10\n",
      "422/422 [==============================] - 4s 9ms/step - loss: 0.0382 - accuracy: 0.9892 - val_loss: 0.1088 - val_accuracy: 0.9687\n",
      "Epoch 10/10\n",
      "422/422 [==============================] - 4s 9ms/step - loss: 0.0284 - accuracy: 0.9910 - val_loss: 0.0845 - val_accuracy: 0.9780\n"
     ]
    }
   ],
   "source": [
    "model.compile(optimizer='adam',\n",
    "              loss=tf.keras.losses.CategoricalCrossentropy(from_logits=True),\n",
    "              metrics=['accuracy'])\n",
    "\n",
    "history = model.fit(X_train, y_train_t, epochs=10,\n",
    "                    validation_split=0.1)"
   ]
  },
  {
   "cell_type": "code",
   "execution_count": 31,
   "id": "75c8f707-ee8d-48ad-a08e-fd2e2ea26720",
   "metadata": {},
   "outputs": [
    {
     "name": "stdout",
     "output_type": "stream",
     "text": [
      "FOLD 1\n",
      "Epoch 1/10\n",
      "380/380 - 4s - loss: 0.8665 - accuracy: 0.8060 - val_loss: 0.1679 - val_accuracy: 0.9548\n",
      "Epoch 2/10\n",
      "380/380 - 3s - loss: 0.1378 - accuracy: 0.9609 - val_loss: 0.1315 - val_accuracy: 0.9637\n",
      "Epoch 3/10\n",
      "380/380 - 3s - loss: 0.0882 - accuracy: 0.9753 - val_loss: 0.0971 - val_accuracy: 0.9763\n",
      "Epoch 4/10\n",
      "380/380 - 3s - loss: 0.0552 - accuracy: 0.9830 - val_loss: 0.0904 - val_accuracy: 0.9815\n",
      "Epoch 5/10\n",
      "380/380 - 3s - loss: 0.0517 - accuracy: 0.9840 - val_loss: 0.1176 - val_accuracy: 0.9652\n",
      "Epoch 6/10\n",
      "380/380 - 3s - loss: 0.0444 - accuracy: 0.9863 - val_loss: 0.1413 - val_accuracy: 0.9667\n",
      "Epoch 7/10\n",
      "380/380 - 3s - loss: 0.0358 - accuracy: 0.9899 - val_loss: 0.1114 - val_accuracy: 0.9726\n",
      "Epoch 8/10\n",
      "380/380 - 3s - loss: 0.0454 - accuracy: 0.9858 - val_loss: 0.1059 - val_accuracy: 0.9800\n",
      "Epoch 9/10\n",
      "380/380 - 3s - loss: 0.0393 - accuracy: 0.9892 - val_loss: 0.0938 - val_accuracy: 0.9763\n",
      "Epoch 10/10\n",
      "380/380 - 3s - loss: 0.0325 - accuracy: 0.9910 - val_loss: 0.1307 - val_accuracy: 0.9726\n",
      "47/47 - 0s - loss: 0.1862 - accuracy: 0.9660\n",
      "Score for fold 1: loss of 0.18616223335266113; accuracy of 96.60000205039978%\n",
      "FOLD 2\n",
      "Epoch 1/10\n",
      "380/380 - 3s - loss: 1.0473 - accuracy: 0.8058 - val_loss: 0.1980 - val_accuracy: 0.9467\n",
      "Epoch 2/10\n",
      "380/380 - 3s - loss: 0.1594 - accuracy: 0.9533 - val_loss: 0.1376 - val_accuracy: 0.9578\n",
      "Epoch 3/10\n",
      "380/380 - 3s - loss: 0.0949 - accuracy: 0.9714 - val_loss: 0.1561 - val_accuracy: 0.9570\n",
      "Epoch 4/10\n",
      "380/380 - 3s - loss: 0.0681 - accuracy: 0.9801 - val_loss: 0.0727 - val_accuracy: 0.9793\n",
      "Epoch 5/10\n",
      "380/380 - 3s - loss: 0.0590 - accuracy: 0.9821 - val_loss: 0.0795 - val_accuracy: 0.9726\n",
      "Epoch 6/10\n",
      "380/380 - 3s - loss: 0.0386 - accuracy: 0.9894 - val_loss: 0.0895 - val_accuracy: 0.9719\n",
      "Epoch 7/10\n",
      "380/380 - 3s - loss: 0.0443 - accuracy: 0.9870 - val_loss: 0.0661 - val_accuracy: 0.9837\n",
      "Epoch 8/10\n",
      "380/380 - 3s - loss: 0.0374 - accuracy: 0.9884 - val_loss: 0.1665 - val_accuracy: 0.9719\n",
      "Epoch 9/10\n",
      "380/380 - 3s - loss: 0.0504 - accuracy: 0.9848 - val_loss: 0.1005 - val_accuracy: 0.9748\n",
      "Epoch 10/10\n",
      "380/380 - 3s - loss: 0.0338 - accuracy: 0.9901 - val_loss: 0.0896 - val_accuracy: 0.9815\n",
      "47/47 - 0s - loss: 0.1427 - accuracy: 0.9673\n",
      "Score for fold 2: loss of 0.1427183300256729; accuracy of 96.73333168029785%\n",
      "FOLD 3\n",
      "Epoch 1/10\n",
      "380/380 - 4s - loss: 0.8562 - accuracy: 0.7869 - val_loss: 0.1775 - val_accuracy: 0.9496\n",
      "Epoch 2/10\n",
      "380/380 - 3s - loss: 0.1497 - accuracy: 0.9561 - val_loss: 0.1159 - val_accuracy: 0.9652\n",
      "Epoch 3/10\n",
      "380/380 - 3s - loss: 0.0852 - accuracy: 0.9750 - val_loss: 0.0920 - val_accuracy: 0.9763\n",
      "Epoch 4/10\n",
      "380/380 - 3s - loss: 0.0741 - accuracy: 0.9784 - val_loss: 0.0767 - val_accuracy: 0.9800\n",
      "Epoch 5/10\n",
      "380/380 - 3s - loss: 0.0556 - accuracy: 0.9835 - val_loss: 0.0822 - val_accuracy: 0.9704\n",
      "Epoch 6/10\n",
      "380/380 - 3s - loss: 0.0380 - accuracy: 0.9895 - val_loss: 0.0813 - val_accuracy: 0.9763\n",
      "Epoch 7/10\n",
      "380/380 - 3s - loss: 0.0408 - accuracy: 0.9875 - val_loss: 0.0952 - val_accuracy: 0.9726\n",
      "Epoch 8/10\n",
      "380/380 - 3s - loss: 0.0446 - accuracy: 0.9880 - val_loss: 0.0824 - val_accuracy: 0.9778\n",
      "Epoch 9/10\n",
      "380/380 - 3s - loss: 0.0388 - accuracy: 0.9882 - val_loss: 0.1115 - val_accuracy: 0.9756\n",
      "Epoch 10/10\n",
      "380/380 - 3s - loss: 0.0329 - accuracy: 0.9898 - val_loss: 0.0776 - val_accuracy: 0.9815\n",
      "47/47 - 0s - loss: 0.1007 - accuracy: 0.9813\n",
      "Score for fold 3: loss of 0.10066626220941544; accuracy of 98.1333315372467%\n",
      "FOLD 4\n",
      "Epoch 1/10\n",
      "380/380 - 4s - loss: 0.9966 - accuracy: 0.7847 - val_loss: 0.1966 - val_accuracy: 0.9370\n",
      "Epoch 2/10\n",
      "380/380 - 3s - loss: 0.1567 - accuracy: 0.9559 - val_loss: 0.1370 - val_accuracy: 0.9578\n",
      "Epoch 3/10\n",
      "380/380 - 3s - loss: 0.0966 - accuracy: 0.9715 - val_loss: 0.1255 - val_accuracy: 0.9652\n",
      "Epoch 4/10\n",
      "380/380 - 3s - loss: 0.0657 - accuracy: 0.9804 - val_loss: 0.1062 - val_accuracy: 0.9719\n",
      "Epoch 5/10\n",
      "380/380 - 3s - loss: 0.0567 - accuracy: 0.9837 - val_loss: 0.1022 - val_accuracy: 0.9719\n",
      "Epoch 6/10\n",
      "380/380 - 3s - loss: 0.0407 - accuracy: 0.9870 - val_loss: 0.1073 - val_accuracy: 0.9733\n",
      "Epoch 7/10\n",
      "380/380 - 3s - loss: 0.0404 - accuracy: 0.9882 - val_loss: 0.1132 - val_accuracy: 0.9704\n",
      "Epoch 8/10\n",
      "380/380 - 3s - loss: 0.0395 - accuracy: 0.9877 - val_loss: 0.1372 - val_accuracy: 0.9652\n",
      "Epoch 9/10\n",
      "380/380 - 3s - loss: 0.0492 - accuracy: 0.9861 - val_loss: 0.1205 - val_accuracy: 0.9696\n",
      "Epoch 10/10\n",
      "380/380 - 3s - loss: 0.0327 - accuracy: 0.9905 - val_loss: 0.1493 - val_accuracy: 0.9652\n",
      "47/47 - 0s - loss: 0.1484 - accuracy: 0.9653\n",
      "Score for fold 4: loss of 0.14836327731609344; accuracy of 96.5333342552185%\n",
      "FOLD 5\n",
      "Epoch 1/10\n",
      "380/380 - 4s - loss: 0.9474 - accuracy: 0.8039 - val_loss: 0.2113 - val_accuracy: 0.9363\n",
      "Epoch 2/10\n",
      "380/380 - 3s - loss: 0.1453 - accuracy: 0.9588 - val_loss: 0.0941 - val_accuracy: 0.9711\n",
      "Epoch 3/10\n",
      "380/380 - 3s - loss: 0.0886 - accuracy: 0.9750 - val_loss: 0.0839 - val_accuracy: 0.9719\n",
      "Epoch 4/10\n",
      "380/380 - 3s - loss: 0.0645 - accuracy: 0.9801 - val_loss: 0.0834 - val_accuracy: 0.9778\n",
      "Epoch 5/10\n",
      "380/380 - 3s - loss: 0.0443 - accuracy: 0.9878 - val_loss: 0.0908 - val_accuracy: 0.9696\n",
      "Epoch 6/10\n",
      "380/380 - 3s - loss: 0.0401 - accuracy: 0.9886 - val_loss: 0.0816 - val_accuracy: 0.9756\n",
      "Epoch 7/10\n",
      "380/380 - 3s - loss: 0.0383 - accuracy: 0.9891 - val_loss: 0.0588 - val_accuracy: 0.9837\n",
      "Epoch 8/10\n",
      "380/380 - 3s - loss: 0.0381 - accuracy: 0.9889 - val_loss: 0.0665 - val_accuracy: 0.9837\n",
      "Epoch 9/10\n",
      "380/380 - 3s - loss: 0.0493 - accuracy: 0.9866 - val_loss: 0.1473 - val_accuracy: 0.9711\n",
      "Epoch 10/10\n",
      "380/380 - 3s - loss: 0.0437 - accuracy: 0.9871 - val_loss: 0.0845 - val_accuracy: 0.9770\n",
      "47/47 - 0s - loss: 0.1284 - accuracy: 0.9740\n",
      "Score for fold 5: loss of 0.12837108969688416; accuracy of 97.39999771118164%\n",
      "FOLD 6\n",
      "Epoch 1/10\n",
      "380/380 - 4s - loss: 0.9780 - accuracy: 0.7909 - val_loss: 0.2192 - val_accuracy: 0.9378\n",
      "Epoch 2/10\n",
      "380/380 - 3s - loss: 0.1771 - accuracy: 0.9509 - val_loss: 0.1260 - val_accuracy: 0.9607\n",
      "Epoch 3/10\n",
      "380/380 - 3s - loss: 0.0979 - accuracy: 0.9715 - val_loss: 0.1348 - val_accuracy: 0.9659\n",
      "Epoch 4/10\n",
      "380/380 - 3s - loss: 0.0766 - accuracy: 0.9765 - val_loss: 0.1078 - val_accuracy: 0.9770\n",
      "Epoch 5/10\n",
      "380/380 - 3s - loss: 0.0609 - accuracy: 0.9817 - val_loss: 0.1081 - val_accuracy: 0.9748\n",
      "Epoch 6/10\n",
      "380/380 - 3s - loss: 0.0402 - accuracy: 0.9875 - val_loss: 0.0689 - val_accuracy: 0.9859\n",
      "Epoch 7/10\n",
      "380/380 - 3s - loss: 0.0442 - accuracy: 0.9869 - val_loss: 0.0876 - val_accuracy: 0.9763\n",
      "Epoch 8/10\n",
      "380/380 - 3s - loss: 0.0360 - accuracy: 0.9893 - val_loss: 0.1050 - val_accuracy: 0.9763\n",
      "Epoch 9/10\n",
      "380/380 - 3s - loss: 0.0409 - accuracy: 0.9884 - val_loss: 0.0816 - val_accuracy: 0.9778\n",
      "Epoch 10/10\n",
      "380/380 - 3s - loss: 0.0317 - accuracy: 0.9900 - val_loss: 0.0977 - val_accuracy: 0.9763\n",
      "47/47 - 0s - loss: 0.1163 - accuracy: 0.9753\n",
      "Score for fold 6: loss of 0.11633621156215668; accuracy of 97.53333330154419%\n",
      "FOLD 7\n",
      "Epoch 1/10\n",
      "380/380 - 4s - loss: 0.8235 - accuracy: 0.8095 - val_loss: 0.1725 - val_accuracy: 0.9504\n",
      "Epoch 2/10\n",
      "380/380 - 3s - loss: 0.1476 - accuracy: 0.9576 - val_loss: 0.1145 - val_accuracy: 0.9615\n",
      "Epoch 3/10\n",
      "380/380 - 3s - loss: 0.0833 - accuracy: 0.9760 - val_loss: 0.0926 - val_accuracy: 0.9704\n",
      "Epoch 4/10\n",
      "380/380 - 3s - loss: 0.0593 - accuracy: 0.9843 - val_loss: 0.0883 - val_accuracy: 0.9741\n",
      "Epoch 5/10\n",
      "380/380 - 3s - loss: 0.0436 - accuracy: 0.9869 - val_loss: 0.0750 - val_accuracy: 0.9763\n",
      "Epoch 6/10\n",
      "380/380 - 3s - loss: 0.0495 - accuracy: 0.9858 - val_loss: 0.0946 - val_accuracy: 0.9770\n",
      "Epoch 7/10\n",
      "380/380 - 3s - loss: 0.0489 - accuracy: 0.9860 - val_loss: 0.0744 - val_accuracy: 0.9807\n",
      "Epoch 8/10\n",
      "380/380 - 3s - loss: 0.0367 - accuracy: 0.9891 - val_loss: 0.0820 - val_accuracy: 0.9741\n",
      "Epoch 9/10\n",
      "380/380 - 3s - loss: 0.0488 - accuracy: 0.9850 - val_loss: 0.0780 - val_accuracy: 0.9778\n",
      "Epoch 10/10\n",
      "380/380 - 3s - loss: 0.0384 - accuracy: 0.9886 - val_loss: 0.1238 - val_accuracy: 0.9741\n",
      "47/47 - 0s - loss: 0.1010 - accuracy: 0.9720\n",
      "Score for fold 7: loss of 0.1009930893778801; accuracy of 97.2000002861023%\n",
      "FOLD 8\n",
      "Epoch 1/10\n",
      "380/380 - 4s - loss: 0.9487 - accuracy: 0.8016 - val_loss: 0.2089 - val_accuracy: 0.9415\n",
      "Epoch 2/10\n",
      "380/380 - 3s - loss: 0.1565 - accuracy: 0.9551 - val_loss: 0.1561 - val_accuracy: 0.9519\n",
      "Epoch 3/10\n",
      "380/380 - 3s - loss: 0.0877 - accuracy: 0.9748 - val_loss: 0.1253 - val_accuracy: 0.9644\n",
      "Epoch 4/10\n",
      "380/380 - 3s - loss: 0.0666 - accuracy: 0.9812 - val_loss: 0.1188 - val_accuracy: 0.9637\n",
      "Epoch 5/10\n",
      "380/380 - 3s - loss: 0.0616 - accuracy: 0.9819 - val_loss: 0.1148 - val_accuracy: 0.9704\n",
      "Epoch 6/10\n",
      "380/380 - 3s - loss: 0.0537 - accuracy: 0.9845 - val_loss: 0.0871 - val_accuracy: 0.9733\n",
      "Epoch 7/10\n",
      "380/380 - 3s - loss: 0.0463 - accuracy: 0.9871 - val_loss: 0.0931 - val_accuracy: 0.9726\n",
      "Epoch 8/10\n",
      "380/380 - 3s - loss: 0.0317 - accuracy: 0.9914 - val_loss: 0.0871 - val_accuracy: 0.9807\n",
      "Epoch 9/10\n",
      "380/380 - 3s - loss: 0.0319 - accuracy: 0.9902 - val_loss: 0.1000 - val_accuracy: 0.9733\n",
      "Epoch 10/10\n",
      "380/380 - 3s - loss: 0.0473 - accuracy: 0.9872 - val_loss: 0.1361 - val_accuracy: 0.9689\n",
      "47/47 - 0s - loss: 0.1115 - accuracy: 0.9707\n",
      "Score for fold 8: loss of 0.11154311150312424; accuracy of 97.06666469573975%\n",
      "FOLD 9\n",
      "Epoch 1/10\n",
      "380/380 - 4s - loss: 0.9039 - accuracy: 0.8171 - val_loss: 0.1967 - val_accuracy: 0.9459\n",
      "Epoch 2/10\n",
      "380/380 - 3s - loss: 0.1432 - accuracy: 0.9592 - val_loss: 0.1067 - val_accuracy: 0.9681\n",
      "Epoch 3/10\n",
      "380/380 - 3s - loss: 0.0743 - accuracy: 0.9786 - val_loss: 0.0980 - val_accuracy: 0.9763\n",
      "Epoch 4/10\n",
      "380/380 - 3s - loss: 0.0522 - accuracy: 0.9834 - val_loss: 0.0650 - val_accuracy: 0.9830\n",
      "Epoch 5/10\n",
      "380/380 - 3s - loss: 0.0443 - accuracy: 0.9886 - val_loss: 0.0787 - val_accuracy: 0.9756\n",
      "Epoch 6/10\n",
      "380/380 - 3s - loss: 0.0624 - accuracy: 0.9806 - val_loss: 0.0997 - val_accuracy: 0.9741\n",
      "Epoch 7/10\n",
      "380/380 - 3s - loss: 0.0375 - accuracy: 0.9897 - val_loss: 0.0707 - val_accuracy: 0.9837\n",
      "Epoch 8/10\n",
      "380/380 - 3s - loss: 0.0351 - accuracy: 0.9892 - val_loss: 0.1109 - val_accuracy: 0.9793\n",
      "Epoch 9/10\n",
      "380/380 - 3s - loss: 0.0397 - accuracy: 0.9894 - val_loss: 0.1091 - val_accuracy: 0.9748\n",
      "Epoch 10/10\n",
      "380/380 - 3s - loss: 0.0271 - accuracy: 0.9919 - val_loss: 0.0809 - val_accuracy: 0.9837\n",
      "47/47 - 0s - loss: 0.1718 - accuracy: 0.9700\n",
      "Score for fold 9: loss of 0.17184263467788696; accuracy of 97.00000286102295%\n",
      "FOLD 10\n",
      "Epoch 1/10\n",
      "380/380 - 3s - loss: 0.9039 - accuracy: 0.8147 - val_loss: 0.1968 - val_accuracy: 0.9400\n",
      "Epoch 2/10\n",
      "380/380 - 3s - loss: 0.1403 - accuracy: 0.9588 - val_loss: 0.1181 - val_accuracy: 0.9674\n",
      "Epoch 3/10\n",
      "380/380 - 3s - loss: 0.0890 - accuracy: 0.9733 - val_loss: 0.1225 - val_accuracy: 0.9630\n",
      "Epoch 4/10\n",
      "380/380 - 3s - loss: 0.0719 - accuracy: 0.9788 - val_loss: 0.1317 - val_accuracy: 0.9659\n",
      "Epoch 5/10\n",
      "380/380 - 3s - loss: 0.0596 - accuracy: 0.9826 - val_loss: 0.0992 - val_accuracy: 0.9770\n",
      "Epoch 6/10\n",
      "380/380 - 3s - loss: 0.0441 - accuracy: 0.9867 - val_loss: 0.1259 - val_accuracy: 0.9652\n",
      "Epoch 7/10\n",
      "380/380 - 3s - loss: 0.0403 - accuracy: 0.9886 - val_loss: 0.1168 - val_accuracy: 0.9711\n",
      "Epoch 8/10\n",
      "380/380 - 3s - loss: 0.0434 - accuracy: 0.9876 - val_loss: 0.1213 - val_accuracy: 0.9711\n",
      "Epoch 9/10\n",
      "380/380 - 3s - loss: 0.0417 - accuracy: 0.9880 - val_loss: 0.1563 - val_accuracy: 0.9637\n",
      "Epoch 10/10\n",
      "380/380 - 3s - loss: 0.0334 - accuracy: 0.9906 - val_loss: 0.1034 - val_accuracy: 0.9763\n",
      "47/47 - 0s - loss: 0.1435 - accuracy: 0.9687\n",
      "Score for fold 10: loss of 0.1435328722000122; accuracy of 96.8666672706604%\n"
     ]
    }
   ],
   "source": [
    "acc_per_fold = []\n",
    "loss_per_fold = []\n",
    "num_folds = 10\n",
    "kfold = KFold(n_splits=num_folds, shuffle=True)\n",
    "fold_n = 1\n",
    "for train, test in kfold.split(X_train, y_train_t):\n",
    "    print(f'FOLD {fold_n}')\n",
    "    model = create_model()\n",
    "    model.compile(\n",
    "        optimizer='adam',\n",
    "        loss=tf.keras.losses.CategoricalCrossentropy(from_logits=True),\n",
    "        metrics=['accuracy'])\n",
    "    history = model.fit(\n",
    "        X_train[train],\n",
    "        y_train_t[train],\n",
    "        epochs=10,\n",
    "        # batch_size=64,\n",
    "        validation_split=0.1,\n",
    "        verbose=2,\n",
    "        # callbacks=callbacks\n",
    "    )\n",
    "    test_loss, test_acc = model.evaluate(X_train[test], y_train_t[test], verbose=2)\n",
    "    print(f'Score for fold {fold_n}: {model.metrics_names[0]} of {test_loss}; {model.metrics_names[1]} of {test_acc*100}%')\n",
    "    acc_per_fold.append(test_acc * 100)\n",
    "    loss_per_fold.append(test_loss)\n",
    "    fold_n += 1"
   ]
  },
  {
   "cell_type": "code",
   "execution_count": null,
   "id": "8217497c-5eae-45d1-be22-3c6660f11d0e",
   "metadata": {},
   "outputs": [],
   "source": [
    "np.mean(acc_per_fold)"
   ]
  }
 ],
 "metadata": {
  "kernelspec": {
   "display_name": "Python 3 (ipykernel)",
   "language": "python",
   "name": "python3"
  },
  "language_info": {
   "codemirror_mode": {
    "name": "ipython",
    "version": 3
   },
   "file_extension": ".py",
   "mimetype": "text/x-python",
   "name": "python",
   "nbconvert_exporter": "python",
   "pygments_lexer": "ipython3",
   "version": "3.9.15"
  }
 },
 "nbformat": 4,
 "nbformat_minor": 5
}
